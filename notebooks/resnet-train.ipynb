{
 "cells": [
  {
   "cell_type": "code",
   "execution_count": null,
   "metadata": {},
   "outputs": [],
   "source": [
    "%cd .."
   ]
  },
  {
   "cell_type": "markdown",
   "metadata": {},
   "source": [
    "# Parameters"
   ]
  },
  {
   "cell_type": "code",
   "execution_count": null,
   "metadata": {},
   "outputs": [],
   "source": [
    "batch_size = 4\n",
    "hidden_size = 1024\n",
    "\n",
    "unlabeled_epochs = 10\n",
    "labeled_epochs = 100"
   ]
  },
  {
   "cell_type": "markdown",
   "metadata": {},
   "source": [
    "# Setup"
   ]
  },
  {
   "cell_type": "code",
   "execution_count": 3,
   "metadata": {},
   "outputs": [],
   "source": [
    "import torch\n",
    "import random\n",
    "import numpy as np\n",
    "from data import get_unlabeled_set, get_labeled_set, set_seeds, make_bounding_box_images, tensor_to_image\n",
    "from model.resnet import Prototype\n",
    "\n",
    "from time import perf_counter"
   ]
  },
  {
   "cell_type": "code",
   "execution_count": 4,
   "metadata": {},
   "outputs": [],
   "source": [
    "set_seeds()\n",
    "torch.backends.cudnn.benchmark = True"
   ]
  },
  {
   "cell_type": "code",
   "execution_count": 5,
   "metadata": {},
   "outputs": [
    {
     "name": "stdout",
     "output_type": "stream",
     "text": [
      "Validation Index: 128\n"
     ]
    }
   ],
   "source": [
    "if torch.cuda.is_available():\n",
    "    batch_size *= torch.cuda.device_count()\n",
    "\n",
    "_, unlabeled_trainloader = get_unlabeled_set(batch_size=batch_size)\n",
    "(_, labeled_trainloader), (_, labeled_testloader) = get_labeled_set(batch_size=batch_size, validation=0.2)"
   ]
  },
  {
   "cell_type": "code",
   "execution_count": 6,
   "metadata": {},
   "outputs": [],
   "source": [
    "# import matplotlib.pyplot as plt\n",
    "# from helpers.helper import draw_box\n",
    "# # The center of image is 400 * 400\n",
    "# fig, ax = plt.subplots()\n",
    "# color_list = ['b', 'g', 'orange', 'c', 'm', 'y', 'k', 'w', 'r']\n",
    "# ax.imshow(road_image[0], cmap ='binary');\n",
    "# # The ego car position\n",
    "# ax.plot(400, 400, 'x', color=\"red\")\n",
    "# for i, bb in enumerate(target[0]['bounding_box']):\n",
    "#     # You can check the implementation of the draw box to understand how it works\n",
    "#     draw_box(ax, bb, color=color_list[target[0]['category'][i]])"
   ]
  },
  {
   "cell_type": "markdown",
   "metadata": {},
   "source": [
    "# Model"
   ]
  },
  {
   "cell_type": "code",
   "execution_count": 7,
   "metadata": {},
   "outputs": [],
   "source": [
    "device = torch.device('cuda' if torch.cuda.is_available() else 'cpu') "
   ]
  },
  {
   "cell_type": "code",
   "execution_count": 8,
   "metadata": {},
   "outputs": [],
   "source": [
    "model = Prototype(hidden_dim=hidden_size)\n",
    "\n",
    "if torch.cuda.is_available():\n",
    "    model = torch.nn.DataParallel(model)\n",
    "    assert batch_size >= torch.cuda.device_count()\n",
    "\n",
    "model = model.to(device)"
   ]
  },
  {
   "cell_type": "markdown",
   "metadata": {},
   "source": [
    "### Unlabeled Pre-training"
   ]
  },
  {
   "cell_type": "code",
   "execution_count": 9,
   "metadata": {},
   "outputs": [],
   "source": [
    "criterion = torch.nn.BCEWithLogitsLoss(reduction='mean')\n",
    "optimizer = torch.optim.Adam(model.parameters())"
   ]
  },
  {
   "cell_type": "code",
   "execution_count": 10,
   "metadata": {},
   "outputs": [
    {
     "name": "stdout",
     "output_type": "stream",
     "text": [
      "[ 0 | 0 / 20034 ] loss: 0.7009420394897461 curr time mins: 0.0\n",
      "Unlabeled Training Took (Min): 0.02\n"
     ]
    }
   ],
   "source": [
    "model.train()\n",
    "\n",
    "start_time = perf_counter()\n",
    "for epoch in range(unlabeled_epochs):\n",
    "    loss = 0.0\n",
    "    \n",
    "    max_batches = len(unlabeled_trainloader)\n",
    "    for idx, (images, camera_index) in enumerate(unlabeled_trainloader):\n",
    "        optimizer.zero_grad()\n",
    "        \n",
    "        images = images.to(device)\n",
    "        reconstructions = model(images, mode='single-image')\n",
    "        loss = criterion(reconstructions, images)\n",
    "        \n",
    "        loss.backward()\n",
    "        optimizer.step()\n",
    "        \n",
    "        # Training Wheels\n",
    "        # print('loss', loss.item())\n",
    "        # break\n",
    "        \n",
    "        if idx % 1000 == 0:\n",
    "            print('[', epoch, '|', idx ,'/', max_batches, ']', 'loss:', loss.item(),\n",
    "                 'curr time mins:', round(int(perf_counter() - start_time) / 60, 2))\n",
    "            \n",
    "    model.save(file_prefix='unlabeled-')\n",
    "    \n",
    "print('Unlabeled Training Took (Min):', round(int(perf_counter() - start_time) / 60, 2))"
   ]
  },
  {
   "cell_type": "markdown",
   "metadata": {},
   "source": [
    "### Labeled Training"
   ]
  },
  {
   "cell_type": "code",
   "execution_count": 11,
   "metadata": {},
   "outputs": [
    {
     "name": "stdout",
     "output_type": "stream",
     "text": [
      "[ 0 | 0 / 693 ] loss: 0.7796123543276552 curr time mins: 0.12\n",
      "Labeled Training Took (Min): 0.13\n"
     ]
    }
   ],
   "source": [
    "model.train()\n",
    "\n",
    "start_time = perf_counter()\n",
    "for epoch in range(labeled_epochs):\n",
    "    loss = 0.0\n",
    "    \n",
    "    max_batches = len(labeled_trainloader)\n",
    "    for idx, (images, targets, _) in enumerate(labeled_trainloader):\n",
    "        optimizer.zero_grad()\n",
    "\n",
    "        # Restack images to be (6-directions, batch size, channels, H, W)\n",
    "        images = torch.stack(images).to(device).permute(1, 0, 2, 3, 4)\n",
    "        \n",
    "        # Rasterize bounding box images for reconstruction\n",
    "        targets = make_bounding_box_images(targets)\n",
    "        targets = targets.to(device)\n",
    "        \n",
    "        # print('input shape:', images.shape)\n",
    "        # print('targt shape:', targets.shape)\n",
    "        \n",
    "        reconstructions = model(images, mode='object-map')\n",
    "        \n",
    "        # print('outpt shape:', reconstructions.shape)\n",
    "        \n",
    "        loss = criterion(reconstructions, targets)\n",
    "        \n",
    "        loss.backward()\n",
    "        optimizer.step()\n",
    "        \n",
    "        # Training Wheels\n",
    "        # print('loss', loss.item())\n",
    "        # break\n",
    "        \n",
    "        if idx % 1000 == 0:\n",
    "            print('[', epoch, '|', idx ,'/', max_batches, ']', 'loss:', loss.item(),\n",
    "                 'curr time mins:', round(int(perf_counter() - start_time) / 60, 2))\n",
    "            \n",
    "    model.save(file_prefix='labeled-')\n",
    "    \n",
    "print('Labeled Training Took (Min):', round(int(perf_counter() - start_time) / 60, 2))"
   ]
  },
  {
   "cell_type": "code",
   "execution_count": 12,
   "metadata": {},
   "outputs": [],
   "source": [
    "# tensor_to_image(reconstructions[0].detach(), 2, 'uint8')"
   ]
  }
 ],
 "metadata": {
  "kernelspec": {
   "display_name": "Python 3",
   "language": "python",
   "name": "python3"
  },
  "language_info": {
   "codemirror_mode": {
    "name": "ipython",
    "version": 3
   },
   "file_extension": ".py",
   "mimetype": "text/x-python",
   "name": "python",
   "nbconvert_exporter": "python",
   "pygments_lexer": "ipython3",
   "version": "3.7.4"
  }
 },
 "nbformat": 4,
 "nbformat_minor": 4
}
